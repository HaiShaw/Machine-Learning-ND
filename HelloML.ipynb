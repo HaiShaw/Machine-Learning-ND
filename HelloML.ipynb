{
 "cells": [
  {
   "cell_type": "markdown",
   "metadata": {},
   "source": [
    "# Machine Learning Nanodegree\n",
    "# Hello Jupyter Notebook!\n",
    "\n",
    "## Objectives\n",
    "  - Run a \"Hello Machine Learner!\" Cell\n",
    "  - Learn how to navigate a Jupyter Notebook (FKA IPython Notebook) in both edit and command modes\n",
    "  - Ensure that all the requisite Python libraries import properly, and that they are up-to-date\n",
    "  \n",
    "## Prerequisites\n",
    "  - You should have Python 2.7 installed (if not, please [download and install Python 2.7](https://www.python.org/downloads/))\n",
    "  - You should also install (and perhaps upgrade) the following packages, if you haven't already:\n",
    "    - [numpy](http://www.numpy.org/)\n",
    "    - [pandas](http://pandas.pydata.org/)\n",
    "    - [matplotlib](http://matplotlib.org/)"
   ]
  },
  {
   "cell_type": "markdown",
   "metadata": {},
   "source": [
    "## Welcome!\n",
    "Hi, if you're reading this, you're about to embark on a Machine Learning journey! All journeys must start with a single step: our first step is going to be to print `\"Hello, Machine Learner!\"` to the Jupyter Notebook. To do so, we need to understand a little about the structure of a Jupyter Notebook. The notebook comprises **cells**. For example, this cell is a \"Markdown\" cell, meaning it's written in [Markdown](https://en.wikipedia.org/wiki/Markdown) (a text-to-HTML language) to make the cell easily readable.\n",
    "\n",
    "Most cells you'll encounter, like the one below, are \"Code\" cells, meaning they are written in Python. Code cells can be recognized by the `In [ ]:` on their left. The square brackets will be **empty** if the code within the code cell has not been run yet. The square brackets will contain a **number** once the cell has been run. The first Code cell that you run within a Notbeook will show `In [1]:` on the left. The second Code cell that you run will show `In [2]:`, *etc.* The numbers for run cells keep increasing until the Kernel is restarted. You can restart the Kernel and clear all outputs within a Jupyter Notebook by clicking on \"Kernel\" near the top to bring up a dropdown menu, then clicking on \"Restart & Clear Output.\"\n",
    "\n",
    "So let's run the cell below!\n",
    "  1. **Click** on the cell below -- the cell should now have a border around it. Depending on where you clicked, there may also be a blinking vertical line where the cursor is.\n",
    "  2. **Run** the cell below by pressing **shift** + **enter** or **shift** + **return**. Alternatively, you can **click** on the \"play\" button near the top of the screen."
   ]
  },
  {
   "cell_type": "code",
   "execution_count": 1,
   "metadata": {
    "collapsed": false
   },
   "outputs": [
    {
     "name": "stdout",
     "output_type": "stream",
     "text": [
      "\"Hello, Machine Learner!\"\n"
     ]
    }
   ],
   "source": [
    "print(\"\\\"Hello, Machine Learner!\\\"\")"
   ]
  },
  {
   "cell_type": "markdown",
   "metadata": {},
   "source": [
    "After running the cell above, we should see `\"Hello, Machine Learner!\"` printed immediately below the cell. Great start! "
   ]
  },
  {
   "cell_type": "markdown",
   "metadata": {},
   "source": [
    "## Edit Mode and Command Mode\n",
    "Jupyter Notebooks have two modes -- **edit mode** and **command mode**. You can figure out which mode you are currently in based on the border color of the active cell.\n",
    "\n",
    "In **edit mode**, the active cell will have a **green** border and the cursor will be visible. In edit mode, you can freely enter text or code in the active cell. You can change the type of the current cell using the dropdown menu at the top of the screen. \"Code\" cells are useful to enter Python code, while \"Markdown\" cells are useful for writing text and comments.\n",
    "\n",
    "In **command mode**, the active cell will have a **blue** border and the cursor will **not** be visible. To enter command mode from edit mode, just press **esc**. In command mode, many keyboard shortcuts are available to the user. The most useful command mode command to remember is \"h\" to bring up \"help\": a summary of the command mode keyboard shortcuts.\n",
    "\n",
    "**Try it now!** Press the \"h\" key in command mode to bring up the help!\n",
    "\n",
    "The other command mode shortcuts that I frequently use are:\n",
    "  - \"a\" to insert a cell **a**bove the current active cell\n",
    "  - \"b\" to insert a cell **b**elow the current active cell\n",
    "  - \"x\" or \"c\" to cut or copy, respectively, the current active cell\n",
    "  - \"shift + v\" or \"v\" to paste a cell above or below, respectively, the current active cell.\n",
    "  \n",
    "Note that the **shift** + **enter** or **shift** + **return** command works to run a cell in both edit and command modes."
   ]
  },
  {
   "cell_type": "markdown",
   "metadata": {},
   "source": [
    "## Importing packages:\n",
    "The next cell will try to import `numpy`. If `numpy` is successfully imported, a success message will print, including the version of numpy that you have. Otherwise, a message will print alerting you that numpy was not imported. If you couldn't import `numpy`, chances are you need to install it -- for instructions on installing and upgrading a package with `pip`, [check this out](https://packaging.python.org/installing/)! The latest version of numpy (as of October 12, 2016) is version 1.11, and the reference manual for `numpy` version 1.11 can be found [here](http://docs.scipy.org/doc/numpy/reference/).\n",
    "\n",
    "**Run** the cell below (highlight the cell by clicking it, then press **shift + enter** or **shift + return**) to import `numpy`."
   ]
  },
  {
   "cell_type": "code",
   "execution_count": 2,
   "metadata": {
    "collapsed": false
   },
   "outputs": [
    {
     "name": "stdout",
     "output_type": "stream",
     "text": [
      "Successfully imported numpy! Version 1.11.2\n"
     ]
    }
   ],
   "source": [
    "try:\n",
    "    import numpy as np\n",
    "    print(\"Successfully imported numpy! Version {}\".format(np.version.version))\n",
    "except ImportError:\n",
    "    print(\"Could not import numpy!\")"
   ]
  },
  {
   "cell_type": "markdown",
   "metadata": {},
   "source": [
    "We are going to try to import two more packages: `matplotlib` and `pandas`. As of October 12, 2016, the latest stable version of `matplotlib` is 1.5.3, and the latest version of `pandas` is 0.19.0. The `matplotlib` API Reference can be found [here](http://matplotlib.org/api/index.html), and the `pandas` API Reference can be found [here](http://pandas.pydata.org/pandas-docs/stable/api.html).\n",
    "\n",
    "**Run** the cell below (highlight the cell by clicking it, then press **shift + enter** or **shift + return**) to import `matplotlib` and `pandas`."
   ]
  },
  {
   "cell_type": "code",
   "execution_count": 3,
   "metadata": {
    "collapsed": false
   },
   "outputs": [
    {
     "name": "stdout",
     "output_type": "stream",
     "text": [
      "Successfully imported matplotlib! Version 1.5.3\n",
      "Successfully imported pandas! Version 0.19.1\n"
     ]
    }
   ],
   "source": [
    "try:\n",
    "    import matplotlib\n",
    "    print(\"Successfully imported matplotlib! Version {}\".format(matplotlib.__version__))\n",
    "except ImportError:\n",
    "    print(\"Could not import matplotlib!\")\n",
    "try:\n",
    "    import pandas as pd\n",
    "    print(\"Successfully imported pandas! Version {}\".format(pd.__version__))\n",
    "except ImportError:\n",
    "    print(\"Could not import pandas!\")"
   ]
  },
  {
   "cell_type": "markdown",
   "metadata": {},
   "source": [
    "## You're on your way!\n",
    "If you were able to print `\"Hello, Machine Learner!\"` and import all the above packages, great! You are are all set up for your machine learning journey!"
   ]
  },
  {
   "cell_type": "code",
   "execution_count": null,
   "metadata": {
    "collapsed": true
   },
   "outputs": [],
   "source": []
  }
 ],
 "metadata": {
  "kernelspec": {
   "display_name": "Python 3",
   "language": "python",
   "name": "python3"
  },
  "language_info": {
   "codemirror_mode": {
    "name": "ipython",
    "version": 3
   },
   "file_extension": ".py",
   "mimetype": "text/x-python",
   "name": "python",
   "nbconvert_exporter": "python",
   "pygments_lexer": "ipython3",
   "version": "3.5.2"
  }
 },
 "nbformat": 4,
 "nbformat_minor": 0
}
